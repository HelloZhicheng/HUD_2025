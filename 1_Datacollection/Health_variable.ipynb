{
 "cells": [
  {
   "cell_type": "markdown",
   "id": "5793e9f4-76c1-4ccc-bbe5-834cd24afd18",
   "metadata": {},
   "source": [
    "## This code retrieves **health information** from the US Census Bureau."
   ]
  },
  {
   "cell_type": "markdown",
   "id": "c553a31c",
   "metadata": {},
   "source": [
    "* **Time**: 2018-2020\n",
    "* **Location**: census tract level in MI, OH\n",
    "* **Unit**: Census tract level (**The CT boundary in 2020 is distinct from that of the 2010–2019 period**).\n",
    "* **State number**: Michigan 26, Ohio 39 \n",
    "* **API for DOWNLOAD**: **url2010(CHANGE)** = \"https://api.census.gov/data/2010(CHANGE)/acs/acs5?get=VARIABLE_NUMBER(CHANGE),NAME&for=tract:*&in=state:26,39&in=county:*\"\n",
    "\n",
    "* Metadata information: https://api.census.gov/data/2011/acs/acs5/variables.html"
   ]
  },
  {
   "cell_type": "markdown",
   "id": "88e3c2f6",
   "metadata": {},
   "source": [
    "### Population with mobility constraints\n",
    "* Age by disability status by health insurance coverage status: **B18135_004E** (under 19 years, with a disability, with health insurance coverage); **B18135_015E** (19 to 64 years, with a disability, ...); **B18135_026E** (65 years and over)\n",
    "  \n",
    "* percent of women who are working: **B23001_088E** (sex by age by employment status for the population 16 years and over, female, total)\n",
    "  \n",
    "* percent population living in moblie homes: **B25024_010E** (units in structure, mobile home)\n",
    "  \n",
    "* Employed in emergency service (firefightrs, law enforcement workers): **C24010_019E** (Male, Service occupations), **C24010_055E** (Female, Service occupations)\n",
    "  \n",
    "* Employed in health care or social services: **C24010_016E** (Male, Management, business, science, and arts occupations. Healthcare practitioners and technical occupations), **C24010_052E** (Female, management, business, science, and arts occupations. Healthcare practitioners and technical occupations)\n",
    "  \n",
    "* Employed by transportation, utility, and warehousing: **C24010_034E** (Male, production, transportation, and material moving occupations), **C24010_070E** (female, production, transportation, and material moving occupations)\n",
    "\n",
    "* Access to phone: **B25043_003E** (Total, owner occupied, with telephone service available); **B25043_012E** (Total, renter occupied, with telephone service available)\n"
   ]
  },
  {
   "cell_type": "markdown",
   "id": "c8b97130",
   "metadata": {},
   "source": [
    "### Health insurance\n",
    "\n",
    "* B27001_004E, male under 6 years, with health insurance; B27001_007E, male 6 to 18 years, with health insurance; B27001_010E, male 19 to 25 years, with health insurance; B27001_013E, male 26 to 34 years, with health insurance; B27001_016E, male 35 to 44 years, with health insurance; B27001_019E, male 45 to 54, with health insurance; B27001_022E, male 55 to 64, with health insurance; B27001_025E, male 65 to 74, with health insurance; B27001_028E, male 75 years and over, with health insurance;\n",
    "\n",
    "* B27001_032E, female under 6 years, with health insurance; B27001_035E, female 6 to 18 years, with health insurance; B27001_038E, female 19 to 25 years, with health insurance; B27001_041E, female 26 to 34 years, with health insurance; B27001_044E, female 35 to 44 years, with health insurance; B27001_047E, female 45 to 54 years, with health insurance; B27001_050E, female 55 to 64 years, with health insurance; B27001_053E, female 65 to 74 years, with health insurance; B27001_056E, female 75 years and over, with health insurance. "
   ]
  },
  {
   "cell_type": "code",
   "execution_count": 5,
   "id": "42e71b09-ae2f-4ce9-b2c0-59b6b3273c94",
   "metadata": {},
   "outputs": [],
   "source": [
    "# Import necessary libraries\n",
    "from IPython.display import Image\n",
    "import requests\n",
    "import pandas as pd\n",
    "\n",
    "# Display all columns when showing dataframes\n",
    "pd.options.display.max_columns = None\n",
    "\n",
    "# Helper function: Convert JSON response to a pandas DataFrame\n",
    "def json_to_dataframe(response):\n",
    "    \"\"\"\n",
    "    Converts a JSON response from the Census API into a pandas DataFrame.\n",
    "    The first row of the response is used as column names, and the rest as data.\n",
    "    \"\"\"\n",
    "    return pd.DataFrame(response.json()[1:], columns=response.json()[0])"
   ]
  },
  {
   "cell_type": "markdown",
   "id": "04577bab-8933-4c89-9b4a-8e50165c28f9",
   "metadata": {},
   "source": [
    "### Loop Function (download for year 2018-2020)"
   ]
  },
  {
   "cell_type": "markdown",
   "id": "64a6e219-d105-4177-9bff-36c5cf48ebdf",
   "metadata": {},
   "source": [
    "(The CT boundary in 2020 is distinct from that of the 2010–2019 period)."
   ]
  },
  {
   "cell_type": "code",
   "execution_count": 8,
   "id": "d70cbec6-b764-4573-b364-1f2b172743d3",
   "metadata": {},
   "outputs": [
    {
     "name": "stdout",
     "output_type": "stream",
     "text": [
      "Processing data for year 2018...\n",
      "Data for year 2018 saved as 'datacombine2018.csv'.\n",
      "\n",
      "Processing data for year 2019...\n",
      "Data for year 2019 saved as 'datacombine2019.csv'.\n",
      "\n",
      "All years processed successfully!\n"
     ]
    }
   ],
   "source": [
    "# List of years to process\n",
    "years = list(range(2018, 2020))\n",
    "\n",
    "# The census tract summary data that you want to download\n",
    "census_tract_data = pd.read_excel('censustract_summary.xlsx', sheet_name=\"2010_2019\")\n",
    "\n",
    "# Loop through each year and process data\n",
    "for year in years:\n",
    "    print(f\"Processing data for year {year}...\")\n",
    "    \n",
    "    # URLs for the two parts of Census data\n",
    "    url = (\n",
    "        f\"https://api.census.gov/data/{year}/acs/acs5?get=B18135_003E,B18135_014E,B18135_025E,NAME&for=tract:*&in=state:26,39&in=county:*\"\n",
    "    )\n",
    "    \n",
    "    # Fetch and process data from both URLs\n",
    "    response = requests.request(\"GET\", url)\n",
    "    dataset = json_to_dataframe(response)\n",
    "    \n",
    "    # Convert 'state', 'county', and 'tract' columns to integer type\n",
    "    dataset = dataset.astype({'state': 'int64', 'county': 'int64', 'tract': 'int64'})\n",
    "    \n",
    "    # Merge the Census data with the Census tract summary data\n",
    "    combined_data = pd.merge(dataset, census_tract_data, on=['state', 'county', 'tract'])\n",
    "    \n",
    "    # Save the combined dataset as a CSV file\n",
    "    output_filename = f\"datacombine{year}.csv\"\n",
    "    combined_data.to_csv(output_filename, index=False)\n",
    "    print(f\"Data for year {year} saved as '{output_filename}'.\\n\")\n",
    "\n",
    "print(\"All years processed successfully!\")"
   ]
  },
  {
   "cell_type": "code",
   "execution_count": 9,
   "id": "ef076768-597f-4dd8-bf02-b2f45ee7fa76",
   "metadata": {},
   "outputs": [
    {
     "name": "stdout",
     "output_type": "stream",
     "text": [
      "Processing data for year 2020...\n",
      "Data for year 2020 saved as 'datacombine2020.csv'.\n",
      "\n",
      "All years processed successfully!\n"
     ]
    }
   ],
   "source": [
    "# List of years to process\n",
    "years = list(range(2020, 2021))\n",
    "\n",
    "# The Census tract summary data that you want to download\n",
    "census_tract_data = pd.read_excel('censustract_summary.xlsx', sheet_name=\"2020\")\n",
    "\n",
    "# Loop through each year and process data\n",
    "for year in years:\n",
    "    print(f\"Processing data for year {year}...\")\n",
    "    \n",
    "    # URLs for the two parts of Census data\n",
    "    url = (\n",
    "        f\"https://api.census.gov/data/{year}/acs/acs5?get=B18135_003E,B18135_014E,B18135_025E,NAME&for=tract:*&in=state:26,39&in=county:*\"\n",
    "    )\n",
    "    \n",
    "    # Fetch and process data from both URLs\n",
    "    response = requests.request(\"GET\", url)\n",
    "    dataset = json_to_dataframe(response)\n",
    "    \n",
    "    # Convert 'state', 'county', and 'tract' columns to integer type\n",
    "    dataset = dataset.astype({'state': 'int64', 'county': 'int64', 'tract': 'int64'})\n",
    "    \n",
    "    # Merge the Census data with the Census tract summary data\n",
    "    combined_data = pd.merge(dataset, census_tract_data, on=['state', 'county', 'tract'])\n",
    "    \n",
    "    # Save the combined dataset as a CSV file\n",
    "    output_filename = f\"datacombine{year}.csv\"\n",
    "    combined_data.to_csv(output_filename, index=False)\n",
    "    print(f\"Data for year {year} saved as '{output_filename}'.\\n\")\n",
    "\n",
    "print(\"All years processed successfully!\")"
   ]
  }
 ],
 "metadata": {
  "kernelspec": {
   "display_name": "Python 3 (ipykernel)",
   "language": "python",
   "name": "python3"
  },
  "language_info": {
   "codemirror_mode": {
    "name": "ipython",
    "version": 3
   },
   "file_extension": ".py",
   "mimetype": "text/x-python",
   "name": "python",
   "nbconvert_exporter": "python",
   "pygments_lexer": "ipython3",
   "version": "3.12.4"
  }
 },
 "nbformat": 4,
 "nbformat_minor": 5
}
